{
  "nbformat": 4,
  "nbformat_minor": 0,
  "metadata": {
    "colab": {
      "name": "PredicaoCovidBR.ipynb",
      "provenance": []
    },
    "kernelspec": {
      "name": "python3",
      "display_name": "Python 3"
    }
  },
  "cells": [
    {
      "cell_type": "markdown",
      "metadata": {
        "id": "b9qDheAl2YwM",
        "colab_type": "text"
      },
      "source": [
        "# Predição: Uma semana covid 19"
      ]
    },
    {
      "cell_type": "code",
      "metadata": {
        "id": "3IKx9COOQR2_",
        "colab_type": "code",
        "colab": {}
      },
      "source": [
        "import pandas as pd"
      ],
      "execution_count": 0,
      "outputs": []
    },
    {
      "cell_type": "code",
      "metadata": {
        "id": "W-AAqDz-QewQ",
        "colab_type": "code",
        "outputId": "e9946af7-728c-4a62-e4b0-4633afe5bb56",
        "colab": {
          "base_uri": "https://localhost:8080/",
          "height": 359
        }
      },
      "source": [
        "covid_data = pd.read_csv('brazil2.csv')\n",
        "covid_data.tail(10)"
      ],
      "execution_count": 8,
      "outputs": [
        {
          "output_type": "execute_result",
          "data": {
            "text/html": [
              "<div>\n",
              "<style scoped>\n",
              "    .dataframe tbody tr th:only-of-type {\n",
              "        vertical-align: middle;\n",
              "    }\n",
              "\n",
              "    .dataframe tbody tr th {\n",
              "        vertical-align: top;\n",
              "    }\n",
              "\n",
              "    .dataframe thead th {\n",
              "        text-align: right;\n",
              "    }\n",
              "</style>\n",
              "<table border=\"1\" class=\"dataframe\">\n",
              "  <thead>\n",
              "    <tr style=\"text-align: right;\">\n",
              "      <th></th>\n",
              "      <th>_id</th>\n",
              "      <th>totalCases</th>\n",
              "      <th>newCases</th>\n",
              "      <th>activeCases</th>\n",
              "      <th>totalDeaths</th>\n",
              "      <th>newDeaths</th>\n",
              "      <th>totalRecovered</th>\n",
              "      <th>date</th>\n",
              "      <th>__v</th>\n",
              "    </tr>\n",
              "  </thead>\n",
              "  <tbody>\n",
              "    <tr>\n",
              "      <th>43</th>\n",
              "      <td>ObjectId(\"5e9d1bee6237ec130a9e6b9f\")</td>\n",
              "      <td>20727</td>\n",
              "      <td>1089</td>\n",
              "      <td>19430</td>\n",
              "      <td>1124</td>\n",
              "      <td>67</td>\n",
              "      <td>173</td>\n",
              "      <td>2020-04-11T00:00:00.000Z\"\"</td>\n",
              "      <td>0</td>\n",
              "    </tr>\n",
              "    <tr>\n",
              "      <th>44</th>\n",
              "      <td>ObjectId(\"5e9d1bee6237ec130a9e6ba0\")</td>\n",
              "      <td>22192</td>\n",
              "      <td>1465</td>\n",
              "      <td>20796</td>\n",
              "      <td>1223</td>\n",
              "      <td>99</td>\n",
              "      <td>173</td>\n",
              "      <td>2020-04-12T00:00:00.000Z\"\"</td>\n",
              "      <td>0</td>\n",
              "    </tr>\n",
              "    <tr>\n",
              "      <th>45</th>\n",
              "      <td>ObjectId(\"5e9d1bee6237ec130a9e6ba1\")</td>\n",
              "      <td>23430</td>\n",
              "      <td>1238</td>\n",
              "      <td>21929</td>\n",
              "      <td>1328</td>\n",
              "      <td>105</td>\n",
              "      <td>173</td>\n",
              "      <td>2020-04-13T00:00:00.000Z\"\"</td>\n",
              "      <td>0</td>\n",
              "    </tr>\n",
              "    <tr>\n",
              "      <th>46</th>\n",
              "      <td>ObjectId(\"5e9d1bee6237ec130a9e6ba2\")</td>\n",
              "      <td>25262</td>\n",
              "      <td>1832</td>\n",
              "      <td>20684</td>\n",
              "      <td>1532</td>\n",
              "      <td>204</td>\n",
              "      <td>3046</td>\n",
              "      <td>2020-04-14T00:00:00.000Z\"\"</td>\n",
              "      <td>0</td>\n",
              "    </tr>\n",
              "    <tr>\n",
              "      <th>47</th>\n",
              "      <td>ObjectId(\"5e9d1bee6237ec130a9e6ba3\")</td>\n",
              "      <td>28320</td>\n",
              "      <td>3058</td>\n",
              "      <td>12558</td>\n",
              "      <td>1736</td>\n",
              "      <td>204</td>\n",
              "      <td>14026</td>\n",
              "      <td>2020-04-15T00:00:00.000Z\"\"</td>\n",
              "      <td>0</td>\n",
              "    </tr>\n",
              "    <tr>\n",
              "      <th>48</th>\n",
              "      <td>ObjectId(\"5e9d1bee6237ec130a9e6ba4\")</td>\n",
              "      <td>30425</td>\n",
              "      <td>2105</td>\n",
              "      <td>14475</td>\n",
              "      <td>1924</td>\n",
              "      <td>188</td>\n",
              "      <td>14026</td>\n",
              "      <td>2020-04-16T00:00:00.000Z\"\"</td>\n",
              "      <td>0</td>\n",
              "    </tr>\n",
              "    <tr>\n",
              "      <th>49</th>\n",
              "      <td>ObjectId(\"5e9d1bee6237ec130a9e6ba5\")</td>\n",
              "      <td>33682</td>\n",
              "      <td>3257</td>\n",
              "      <td>17515</td>\n",
              "      <td>2141</td>\n",
              "      <td>217</td>\n",
              "      <td>14026</td>\n",
              "      <td>2020-04-17T00:00:00.000Z\"\"</td>\n",
              "      <td>0</td>\n",
              "    </tr>\n",
              "    <tr>\n",
              "      <th>50</th>\n",
              "      <td>ObjectId(\"5e9d1bee6237ec130a9e6ba6\")</td>\n",
              "      <td>36658</td>\n",
              "      <td>2976</td>\n",
              "      <td>20278</td>\n",
              "      <td>2354</td>\n",
              "      <td>213</td>\n",
              "      <td>14026</td>\n",
              "      <td>2020-04-18T00:00:00.000Z\"\"</td>\n",
              "      <td>0</td>\n",
              "    </tr>\n",
              "    <tr>\n",
              "      <th>51</th>\n",
              "      <td>ObjectId(\"5e9d1bee6237ec130a9e6ba7\")</td>\n",
              "      <td>38654</td>\n",
              "      <td>1996</td>\n",
              "      <td>14062</td>\n",
              "      <td>2462</td>\n",
              "      <td>108</td>\n",
              "      <td>22130</td>\n",
              "      <td>2020-04-19T00:00:00.000Z\"\"</td>\n",
              "      <td>0</td>\n",
              "    </tr>\n",
              "    <tr>\n",
              "      <th>52</th>\n",
              "      <td>ObjectId(\"5e9d6ae7b7cd6921b2f9626c\")</td>\n",
              "      <td>40581</td>\n",
              "      <td>1927</td>\n",
              "      <td>15936</td>\n",
              "      <td>2575</td>\n",
              "      <td>113</td>\n",
              "      <td>22130</td>\n",
              "      <td>2020-04-20T00:00:00.000Z\"\"</td>\n",
              "      <td>0</td>\n",
              "    </tr>\n",
              "  </tbody>\n",
              "</table>\n",
              "</div>"
            ],
            "text/plain": [
              "                                     _id  ...  __v\n",
              "43  ObjectId(\"5e9d1bee6237ec130a9e6b9f\")  ...    0\n",
              "44  ObjectId(\"5e9d1bee6237ec130a9e6ba0\")  ...    0\n",
              "45  ObjectId(\"5e9d1bee6237ec130a9e6ba1\")  ...    0\n",
              "46  ObjectId(\"5e9d1bee6237ec130a9e6ba2\")  ...    0\n",
              "47  ObjectId(\"5e9d1bee6237ec130a9e6ba3\")  ...    0\n",
              "48  ObjectId(\"5e9d1bee6237ec130a9e6ba4\")  ...    0\n",
              "49  ObjectId(\"5e9d1bee6237ec130a9e6ba5\")  ...    0\n",
              "50  ObjectId(\"5e9d1bee6237ec130a9e6ba6\")  ...    0\n",
              "51  ObjectId(\"5e9d1bee6237ec130a9e6ba7\")  ...    0\n",
              "52  ObjectId(\"5e9d6ae7b7cd6921b2f9626c\")  ...    0\n",
              "\n",
              "[10 rows x 9 columns]"
            ]
          },
          "metadata": {
            "tags": []
          },
          "execution_count": 8
        }
      ]
    },
    {
      "cell_type": "markdown",
      "metadata": {
        "id": "_V6_Qn1w2k0P",
        "colab_type": "text"
      },
      "source": [
        "### Normalização da data "
      ]
    },
    {
      "cell_type": "code",
      "metadata": {
        "id": "Cy2R3z9PQooW",
        "colab_type": "code",
        "colab": {}
      },
      "source": [
        "def normalizer_date(date):\n",
        "    result = ''\n",
        "    for i in range(10):\n",
        "        result += date[i]\n",
        "    return result\n",
        "covid_data['date'] = covid_data.date.apply(normalizer_date)"
      ],
      "execution_count": 0,
      "outputs": []
    },
    {
      "cell_type": "code",
      "metadata": {
        "id": "WK6F_Ao9Qzfs",
        "colab_type": "code",
        "outputId": "1e5b0c3d-55e7-4441-900c-3c2f5add6ac8",
        "colab": {
          "base_uri": "https://localhost:8080/",
          "height": 204
        }
      },
      "source": [
        "covid_data.head(5)"
      ],
      "execution_count": 10,
      "outputs": [
        {
          "output_type": "execute_result",
          "data": {
            "text/html": [
              "<div>\n",
              "<style scoped>\n",
              "    .dataframe tbody tr th:only-of-type {\n",
              "        vertical-align: middle;\n",
              "    }\n",
              "\n",
              "    .dataframe tbody tr th {\n",
              "        vertical-align: top;\n",
              "    }\n",
              "\n",
              "    .dataframe thead th {\n",
              "        text-align: right;\n",
              "    }\n",
              "</style>\n",
              "<table border=\"1\" class=\"dataframe\">\n",
              "  <thead>\n",
              "    <tr style=\"text-align: right;\">\n",
              "      <th></th>\n",
              "      <th>_id</th>\n",
              "      <th>totalCases</th>\n",
              "      <th>newCases</th>\n",
              "      <th>activeCases</th>\n",
              "      <th>totalDeaths</th>\n",
              "      <th>newDeaths</th>\n",
              "      <th>totalRecovered</th>\n",
              "      <th>date</th>\n",
              "      <th>__v</th>\n",
              "    </tr>\n",
              "  </thead>\n",
              "  <tbody>\n",
              "    <tr>\n",
              "      <th>0</th>\n",
              "      <td>ObjectId(\"5e9d1bee6237ec130a9e6b75\")</td>\n",
              "      <td>2</td>\n",
              "      <td>1</td>\n",
              "      <td>2</td>\n",
              "      <td>0</td>\n",
              "      <td>0</td>\n",
              "      <td>0</td>\n",
              "      <td>2020-02-29</td>\n",
              "      <td>0</td>\n",
              "    </tr>\n",
              "    <tr>\n",
              "      <th>1</th>\n",
              "      <td>ObjectId(\"5e9d1bee6237ec130a9e6b74\")</td>\n",
              "      <td>1</td>\n",
              "      <td>1</td>\n",
              "      <td>1</td>\n",
              "      <td>0</td>\n",
              "      <td>0</td>\n",
              "      <td>0</td>\n",
              "      <td>2020-02-28</td>\n",
              "      <td>0</td>\n",
              "    </tr>\n",
              "    <tr>\n",
              "      <th>2</th>\n",
              "      <td>ObjectId(\"5e9d1bee6237ec130a9e6b76\")</td>\n",
              "      <td>2</td>\n",
              "      <td>0</td>\n",
              "      <td>2</td>\n",
              "      <td>0</td>\n",
              "      <td>0</td>\n",
              "      <td>0</td>\n",
              "      <td>2020-03-01</td>\n",
              "      <td>0</td>\n",
              "    </tr>\n",
              "    <tr>\n",
              "      <th>3</th>\n",
              "      <td>ObjectId(\"5e9d1bee6237ec130a9e6b78\")</td>\n",
              "      <td>2</td>\n",
              "      <td>0</td>\n",
              "      <td>2</td>\n",
              "      <td>0</td>\n",
              "      <td>0</td>\n",
              "      <td>0</td>\n",
              "      <td>2020-03-03</td>\n",
              "      <td>0</td>\n",
              "    </tr>\n",
              "    <tr>\n",
              "      <th>4</th>\n",
              "      <td>ObjectId(\"5e9d1bee6237ec130a9e6b7a\")</td>\n",
              "      <td>4</td>\n",
              "      <td>0</td>\n",
              "      <td>4</td>\n",
              "      <td>0</td>\n",
              "      <td>0</td>\n",
              "      <td>0</td>\n",
              "      <td>2020-03-05</td>\n",
              "      <td>0</td>\n",
              "    </tr>\n",
              "  </tbody>\n",
              "</table>\n",
              "</div>"
            ],
            "text/plain": [
              "                                    _id  totalCases  ...        date  __v\n",
              "0  ObjectId(\"5e9d1bee6237ec130a9e6b75\")           2  ...  2020-02-29    0\n",
              "1  ObjectId(\"5e9d1bee6237ec130a9e6b74\")           1  ...  2020-02-28    0\n",
              "2  ObjectId(\"5e9d1bee6237ec130a9e6b76\")           2  ...  2020-03-01    0\n",
              "3  ObjectId(\"5e9d1bee6237ec130a9e6b78\")           2  ...  2020-03-03    0\n",
              "4  ObjectId(\"5e9d1bee6237ec130a9e6b7a\")           4  ...  2020-03-05    0\n",
              "\n",
              "[5 rows x 9 columns]"
            ]
          },
          "metadata": {
            "tags": []
          },
          "execution_count": 10
        }
      ]
    },
    {
      "cell_type": "code",
      "metadata": {
        "id": "d1HuM3FsRNUj",
        "colab_type": "code",
        "outputId": "c79c06d9-293e-4518-bca1-0d0afb0220b9",
        "colab": {
          "base_uri": "https://localhost:8080/",
          "height": 296
        }
      },
      "source": [
        "covid_data.groupby('date').sum()['totalCases'].plot()"
      ],
      "execution_count": 11,
      "outputs": [
        {
          "output_type": "execute_result",
          "data": {
            "text/plain": [
              "<matplotlib.axes._subplots.AxesSubplot at 0x7f38570cfba8>"
            ]
          },
          "metadata": {
            "tags": []
          },
          "execution_count": 11
        },
        {
          "output_type": "display_data",
          "data": {
            "image/png": "[encoded data removed]",
            "text/plain": [
              "<Figure size 432x288 with 1 Axes>"
            ]
          },
          "metadata": {
            "tags": [],
            "needs_background": "light"
          }
        }
      ]
    },
    {
      "cell_type": "code",
      "metadata": {
        "id": "aiqoQkekSGbR",
        "colab_type": "code",
        "colab": {}
      },
      "source": [
        "covid_data['date'] = pd.to_datetime(covid_data['date'])"
      ],
      "execution_count": 0,
      "outputs": []
    },
    {
      "cell_type": "code",
      "metadata": {
        "id": "ltenxR-6Sukf",
        "colab_type": "code",
        "colab": {}
      },
      "source": [
        "from fbprophet import Prophet\n"
      ],
      "execution_count": 0,
      "outputs": []
    },
    {
      "cell_type": "markdown",
      "metadata": {
        "id": "5NbZOa892zW_",
        "colab_type": "text"
      },
      "source": [
        "### Dataframe com novas mortes por dia"
      ]
    },
    {
      "cell_type": "code",
      "metadata": {
        "id": "-jJIfXbqTujQ",
        "colab_type": "code",
        "outputId": "5c7625a8-1165-42a9-87fc-970ef2293264",
        "colab": {
          "base_uri": "https://localhost:8080/",
          "height": 266
        }
      },
      "source": [
        "covid_newDeaths = covid_data[['date','newDeaths']]\n",
        "covid_newDeaths.tail(7)"
      ],
      "execution_count": 17,
      "outputs": [
        {
          "output_type": "execute_result",
          "data": {
            "text/html": [
              "<div>\n",
              "<style scoped>\n",
              "    .dataframe tbody tr th:only-of-type {\n",
              "        vertical-align: middle;\n",
              "    }\n",
              "\n",
              "    .dataframe tbody tr th {\n",
              "        vertical-align: top;\n",
              "    }\n",
              "\n",
              "    .dataframe thead th {\n",
              "        text-align: right;\n",
              "    }\n",
              "</style>\n",
              "<table border=\"1\" class=\"dataframe\">\n",
              "  <thead>\n",
              "    <tr style=\"text-align: right;\">\n",
              "      <th></th>\n",
              "      <th>date</th>\n",
              "      <th>newDeaths</th>\n",
              "    </tr>\n",
              "  </thead>\n",
              "  <tbody>\n",
              "    <tr>\n",
              "      <th>46</th>\n",
              "      <td>2020-04-14</td>\n",
              "      <td>204</td>\n",
              "    </tr>\n",
              "    <tr>\n",
              "      <th>47</th>\n",
              "      <td>2020-04-15</td>\n",
              "      <td>204</td>\n",
              "    </tr>\n",
              "    <tr>\n",
              "      <th>48</th>\n",
              "      <td>2020-04-16</td>\n",
              "      <td>188</td>\n",
              "    </tr>\n",
              "    <tr>\n",
              "      <th>49</th>\n",
              "      <td>2020-04-17</td>\n",
              "      <td>217</td>\n",
              "    </tr>\n",
              "    <tr>\n",
              "      <th>50</th>\n",
              "      <td>2020-04-18</td>\n",
              "      <td>213</td>\n",
              "    </tr>\n",
              "    <tr>\n",
              "      <th>51</th>\n",
              "      <td>2020-04-19</td>\n",
              "      <td>108</td>\n",
              "    </tr>\n",
              "    <tr>\n",
              "      <th>52</th>\n",
              "      <td>2020-04-20</td>\n",
              "      <td>113</td>\n",
              "    </tr>\n",
              "  </tbody>\n",
              "</table>\n",
              "</div>"
            ],
            "text/plain": [
              "         date  newDeaths\n",
              "46 2020-04-14        204\n",
              "47 2020-04-15        204\n",
              "48 2020-04-16        188\n",
              "49 2020-04-17        217\n",
              "50 2020-04-18        213\n",
              "51 2020-04-19        108\n",
              "52 2020-04-20        113"
            ]
          },
          "metadata": {
            "tags": []
          },
          "execution_count": 17
        }
      ]
    },
    {
      "cell_type": "code",
      "metadata": {
        "id": "TavWz13lUZzX",
        "colab_type": "code",
        "outputId": "9a8011b9-c327-425e-fb33-326a715812fa",
        "colab": {
          "base_uri": "https://localhost:8080/",
          "height": 204
        }
      },
      "source": [
        "covid_newDeaths.columns = ['ds','y']\n",
        "covid_newDeaths.tail()"
      ],
      "execution_count": 18,
      "outputs": [
        {
          "output_type": "execute_result",
          "data": {
            "text/html": [
              "<div>\n",
              "<style scoped>\n",
              "    .dataframe tbody tr th:only-of-type {\n",
              "        vertical-align: middle;\n",
              "    }\n",
              "\n",
              "    .dataframe tbody tr th {\n",
              "        vertical-align: top;\n",
              "    }\n",
              "\n",
              "    .dataframe thead th {\n",
              "        text-align: right;\n",
              "    }\n",
              "</style>\n",
              "<table border=\"1\" class=\"dataframe\">\n",
              "  <thead>\n",
              "    <tr style=\"text-align: right;\">\n",
              "      <th></th>\n",
              "      <th>ds</th>\n",
              "      <th>y</th>\n",
              "    </tr>\n",
              "  </thead>\n",
              "  <tbody>\n",
              "    <tr>\n",
              "      <th>48</th>\n",
              "      <td>2020-04-16</td>\n",
              "      <td>188</td>\n",
              "    </tr>\n",
              "    <tr>\n",
              "      <th>49</th>\n",
              "      <td>2020-04-17</td>\n",
              "      <td>217</td>\n",
              "    </tr>\n",
              "    <tr>\n",
              "      <th>50</th>\n",
              "      <td>2020-04-18</td>\n",
              "      <td>213</td>\n",
              "    </tr>\n",
              "    <tr>\n",
              "      <th>51</th>\n",
              "      <td>2020-04-19</td>\n",
              "      <td>108</td>\n",
              "    </tr>\n",
              "    <tr>\n",
              "      <th>52</th>\n",
              "      <td>2020-04-20</td>\n",
              "      <td>113</td>\n",
              "    </tr>\n",
              "  </tbody>\n",
              "</table>\n",
              "</div>"
            ],
            "text/plain": [
              "           ds    y\n",
              "48 2020-04-16  188\n",
              "49 2020-04-17  217\n",
              "50 2020-04-18  213\n",
              "51 2020-04-19  108\n",
              "52 2020-04-20  113"
            ]
          },
          "metadata": {
            "tags": []
          },
          "execution_count": 18
        }
      ]
    },
    {
      "cell_type": "code",
      "metadata": {
        "id": "F5jeFuosTVtC",
        "colab_type": "code",
        "outputId": "0c0f1dc4-b6f4-4f43-a636-087173f95460",
        "colab": {
          "base_uri": "https://localhost:8080/",
          "height": 51
        }
      },
      "source": [
        "m = Prophet(interval_width= 0.90)\n",
        "m.fit(covid_newDeaths)\n",
        "predicao = m.make_future_dataframe(periods=7)"
      ],
      "execution_count": 0,
      "outputs": [
        {
          "output_type": "stream",
          "text": [
            "INFO:fbprophet:Disabling yearly seasonality. Run prophet with yearly_seasonality=True to override this.\n",
            "INFO:fbprophet:Disabling daily seasonality. Run prophet with daily_seasonality=True to override this.\n"
          ],
          "name": "stderr"
        }
      ]
    },
    {
      "cell_type": "code",
      "metadata": {
        "id": "i6cijJHiUogf",
        "colab_type": "code",
        "outputId": "4f36a76a-d6a6-4a16-bea8-ca8f92c02542",
        "colab": {
          "base_uri": "https://localhost:8080/",
          "height": 266
        }
      },
      "source": [
        "predicao.head(7)"
      ],
      "execution_count": 0,
      "outputs": [
        {
          "output_type": "execute_result",
          "data": {
            "text/html": [
              "<div>\n",
              "<style scoped>\n",
              "    .dataframe tbody tr th:only-of-type {\n",
              "        vertical-align: middle;\n",
              "    }\n",
              "\n",
              "    .dataframe tbody tr th {\n",
              "        vertical-align: top;\n",
              "    }\n",
              "\n",
              "    .dataframe thead th {\n",
              "        text-align: right;\n",
              "    }\n",
              "</style>\n",
              "<table border=\"1\" class=\"dataframe\">\n",
              "  <thead>\n",
              "    <tr style=\"text-align: right;\">\n",
              "      <th></th>\n",
              "      <th>ds</th>\n",
              "    </tr>\n",
              "  </thead>\n",
              "  <tbody>\n",
              "    <tr>\n",
              "      <th>0</th>\n",
              "      <td>2020-02-28</td>\n",
              "    </tr>\n",
              "    <tr>\n",
              "      <th>1</th>\n",
              "      <td>2020-02-29</td>\n",
              "    </tr>\n",
              "    <tr>\n",
              "      <th>2</th>\n",
              "      <td>2020-03-01</td>\n",
              "    </tr>\n",
              "    <tr>\n",
              "      <th>3</th>\n",
              "      <td>2020-03-02</td>\n",
              "    </tr>\n",
              "    <tr>\n",
              "      <th>4</th>\n",
              "      <td>2020-03-03</td>\n",
              "    </tr>\n",
              "    <tr>\n",
              "      <th>5</th>\n",
              "      <td>2020-03-04</td>\n",
              "    </tr>\n",
              "    <tr>\n",
              "      <th>6</th>\n",
              "      <td>2020-03-05</td>\n",
              "    </tr>\n",
              "  </tbody>\n",
              "</table>\n",
              "</div>"
            ],
            "text/plain": [
              "          ds\n",
              "0 2020-02-28\n",
              "1 2020-02-29\n",
              "2 2020-03-01\n",
              "3 2020-03-02\n",
              "4 2020-03-03\n",
              "5 2020-03-04\n",
              "6 2020-03-05"
            ]
          },
          "metadata": {
            "tags": []
          },
          "execution_count": 115
        }
      ]
    },
    {
      "cell_type": "code",
      "metadata": {
        "id": "myYmb0BWUtvB",
        "colab_type": "code",
        "outputId": "e3208f78-34b3-4b8d-e458-04e83abd39cc",
        "colab": {
          "base_uri": "https://localhost:8080/",
          "height": 405
        }
      },
      "source": [
        "previsao = m.predict(predicao)\n",
        "previsao.tail(7)"
      ],
      "execution_count": 0,
      "outputs": [
        {
          "output_type": "execute_result",
          "data": {
            "text/html": [
              "<div>\n",
              "<style scoped>\n",
              "    .dataframe tbody tr th:only-of-type {\n",
              "        vertical-align: middle;\n",
              "    }\n",
              "\n",
              "    .dataframe tbody tr th {\n",
              "        vertical-align: top;\n",
              "    }\n",
              "\n",
              "    .dataframe thead th {\n",
              "        text-align: right;\n",
              "    }\n",
              "</style>\n",
              "<table border=\"1\" class=\"dataframe\">\n",
              "  <thead>\n",
              "    <tr style=\"text-align: right;\">\n",
              "      <th></th>\n",
              "      <th>ds</th>\n",
              "      <th>trend</th>\n",
              "      <th>yhat_lower</th>\n",
              "      <th>yhat_upper</th>\n",
              "      <th>trend_lower</th>\n",
              "      <th>trend_upper</th>\n",
              "      <th>additive_terms</th>\n",
              "      <th>additive_terms_lower</th>\n",
              "      <th>additive_terms_upper</th>\n",
              "      <th>weekly</th>\n",
              "      <th>weekly_lower</th>\n",
              "      <th>weekly_upper</th>\n",
              "      <th>multiplicative_terms</th>\n",
              "      <th>multiplicative_terms_lower</th>\n",
              "      <th>multiplicative_terms_upper</th>\n",
              "      <th>yhat</th>\n",
              "    </tr>\n",
              "  </thead>\n",
              "  <tbody>\n",
              "    <tr>\n",
              "      <th>53</th>\n",
              "      <td>2020-04-21</td>\n",
              "      <td>145.987975</td>\n",
              "      <td>97.704884</td>\n",
              "      <td>211.948321</td>\n",
              "      <td>145.987481</td>\n",
              "      <td>145.988463</td>\n",
              "      <td>8.988462</td>\n",
              "      <td>8.988462</td>\n",
              "      <td>8.988462</td>\n",
              "      <td>8.988462</td>\n",
              "      <td>8.988462</td>\n",
              "      <td>8.988462</td>\n",
              "      <td>0.0</td>\n",
              "      <td>0.0</td>\n",
              "      <td>0.0</td>\n",
              "      <td>154.976437</td>\n",
              "    </tr>\n",
              "    <tr>\n",
              "      <th>54</th>\n",
              "      <td>2020-04-22</td>\n",
              "      <td>149.583175</td>\n",
              "      <td>102.165893</td>\n",
              "      <td>213.780518</td>\n",
              "      <td>149.581447</td>\n",
              "      <td>149.584854</td>\n",
              "      <td>6.830182</td>\n",
              "      <td>6.830182</td>\n",
              "      <td>6.830182</td>\n",
              "      <td>6.830182</td>\n",
              "      <td>6.830182</td>\n",
              "      <td>6.830182</td>\n",
              "      <td>0.0</td>\n",
              "      <td>0.0</td>\n",
              "      <td>0.0</td>\n",
              "      <td>156.413357</td>\n",
              "    </tr>\n",
              "    <tr>\n",
              "      <th>55</th>\n",
              "      <td>2020-04-23</td>\n",
              "      <td>153.178375</td>\n",
              "      <td>106.651483</td>\n",
              "      <td>216.240622</td>\n",
              "      <td>153.175136</td>\n",
              "      <td>153.181751</td>\n",
              "      <td>7.956112</td>\n",
              "      <td>7.956112</td>\n",
              "      <td>7.956112</td>\n",
              "      <td>7.956112</td>\n",
              "      <td>7.956112</td>\n",
              "      <td>7.956112</td>\n",
              "      <td>0.0</td>\n",
              "      <td>0.0</td>\n",
              "      <td>0.0</td>\n",
              "      <td>161.134486</td>\n",
              "    </tr>\n",
              "    <tr>\n",
              "      <th>56</th>\n",
              "      <td>2020-04-24</td>\n",
              "      <td>156.773575</td>\n",
              "      <td>104.522662</td>\n",
              "      <td>214.836930</td>\n",
              "      <td>156.768749</td>\n",
              "      <td>156.779171</td>\n",
              "      <td>3.715902</td>\n",
              "      <td>3.715902</td>\n",
              "      <td>3.715902</td>\n",
              "      <td>3.715902</td>\n",
              "      <td>3.715902</td>\n",
              "      <td>3.715902</td>\n",
              "      <td>0.0</td>\n",
              "      <td>0.0</td>\n",
              "      <td>0.0</td>\n",
              "      <td>160.489477</td>\n",
              "    </tr>\n",
              "    <tr>\n",
              "      <th>57</th>\n",
              "      <td>2020-04-25</td>\n",
              "      <td>160.368774</td>\n",
              "      <td>106.025040</td>\n",
              "      <td>223.007155</td>\n",
              "      <td>160.362123</td>\n",
              "      <td>160.376458</td>\n",
              "      <td>1.379034</td>\n",
              "      <td>1.379034</td>\n",
              "      <td>1.379034</td>\n",
              "      <td>1.379034</td>\n",
              "      <td>1.379034</td>\n",
              "      <td>1.379034</td>\n",
              "      <td>0.0</td>\n",
              "      <td>0.0</td>\n",
              "      <td>0.0</td>\n",
              "      <td>161.747809</td>\n",
              "    </tr>\n",
              "    <tr>\n",
              "      <th>58</th>\n",
              "      <td>2020-04-26</td>\n",
              "      <td>163.963974</td>\n",
              "      <td>89.904542</td>\n",
              "      <td>203.221228</td>\n",
              "      <td>163.954763</td>\n",
              "      <td>163.974001</td>\n",
              "      <td>-15.452983</td>\n",
              "      <td>-15.452983</td>\n",
              "      <td>-15.452983</td>\n",
              "      <td>-15.452983</td>\n",
              "      <td>-15.452983</td>\n",
              "      <td>-15.452983</td>\n",
              "      <td>0.0</td>\n",
              "      <td>0.0</td>\n",
              "      <td>0.0</td>\n",
              "      <td>148.510992</td>\n",
              "    </tr>\n",
              "    <tr>\n",
              "      <th>59</th>\n",
              "      <td>2020-04-27</td>\n",
              "      <td>167.559174</td>\n",
              "      <td>97.801526</td>\n",
              "      <td>210.909871</td>\n",
              "      <td>167.547345</td>\n",
              "      <td>167.571726</td>\n",
              "      <td>-13.416709</td>\n",
              "      <td>-13.416709</td>\n",
              "      <td>-13.416709</td>\n",
              "      <td>-13.416709</td>\n",
              "      <td>-13.416709</td>\n",
              "      <td>-13.416709</td>\n",
              "      <td>0.0</td>\n",
              "      <td>0.0</td>\n",
              "      <td>0.0</td>\n",
              "      <td>154.142465</td>\n",
              "    </tr>\n",
              "  </tbody>\n",
              "</table>\n",
              "</div>"
            ],
            "text/plain": [
              "           ds       trend  ...  multiplicative_terms_upper        yhat\n",
              "53 2020-04-21  145.987975  ...                         0.0  154.976437\n",
              "54 2020-04-22  149.583175  ...                         0.0  156.413357\n",
              "55 2020-04-23  153.178375  ...                         0.0  161.134486\n",
              "56 2020-04-24  156.773575  ...                         0.0  160.489477\n",
              "57 2020-04-25  160.368774  ...                         0.0  161.747809\n",
              "58 2020-04-26  163.963974  ...                         0.0  148.510992\n",
              "59 2020-04-27  167.559174  ...                         0.0  154.142465\n",
              "\n",
              "[7 rows x 16 columns]"
            ]
          },
          "metadata": {
            "tags": []
          },
          "execution_count": 107
        }
      ]
    },
    {
      "cell_type": "code",
      "metadata": {
        "id": "9qIF0Y8TVuUR",
        "colab_type": "code",
        "colab": {}
      },
      "source": [
        "data = previsao[['ds','yhat_lower','yhat','yhat_upper']].tail(7)"
      ],
      "execution_count": 0,
      "outputs": []
    },
    {
      "cell_type": "code",
      "metadata": {
        "id": "4_Sie-vHXqUt",
        "colab_type": "code",
        "colab": {}
      },
      "source": [
        "data.columns = ['data','previsao_baixa','previsao_media','previsao_alta']"
      ],
      "execution_count": 0,
      "outputs": []
    },
    {
      "cell_type": "markdown",
      "metadata": {
        "id": "xEsdL4CzZA-G",
        "colab_type": "text"
      },
      "source": [
        ""
      ]
    },
    {
      "cell_type": "code",
      "metadata": {
        "id": "nxZRp0j1WMgh",
        "colab_type": "code",
        "outputId": "f42421d8-e056-443a-d370-6aae58d59f06",
        "colab": {
          "base_uri": "https://localhost:8080/",
          "height": 441
        }
      },
      "source": [
        "confirmed_forescast_plot = m.plot(previsao)"
      ],
      "execution_count": 0,
      "outputs": [
        {
          "output_type": "display_data",
          "data": {
            "image/png": "[encoded data removed]",
            "text/plain": [
              "<Figure size 720x432 with 1 Axes>"
            ]
          },
          "metadata": {
            "tags": []
          }
        }
      ]
    },
    {
      "cell_type": "code",
      "metadata": {
        "id": "pNi0mq1JX78o",
        "colab_type": "code",
        "colab": {}
      },
      "source": [
        "def normalizer_results(d):\n",
        "    result = int(d)\n",
        "    return result"
      ],
      "execution_count": 0,
      "outputs": []
    },
    {
      "cell_type": "code",
      "metadata": {
        "id": "9r32czAvZKg4",
        "colab_type": "code",
        "outputId": "fafc8998-5c7f-4a62-dbdc-fede8b48c535",
        "colab": {
          "base_uri": "https://localhost:8080/",
          "height": 34
        }
      },
      "source": [
        "type(data)"
      ],
      "execution_count": 0,
      "outputs": [
        {
          "output_type": "execute_result",
          "data": {
            "text/plain": [
              "pandas.core.frame.DataFrame"
            ]
          },
          "metadata": {
            "tags": []
          },
          "execution_count": 113
        }
      ]
    },
    {
      "cell_type": "markdown",
      "metadata": {
        "id": "uiukfTBcZgug",
        "colab_type": "text"
      },
      "source": [
        "# Previsão de mortes Covid-19"
      ]
    },
    {
      "cell_type": "code",
      "metadata": {
        "id": "nX8cdNahZOPi",
        "colab_type": "code",
        "outputId": "683300a3-acff-437b-e860-b438ebfe3a91",
        "colab": {
          "base_uri": "https://localhost:8080/",
          "height": 266
        }
      },
      "source": [
        "data['previsao_baixa'] = data.previsao_baixa.apply(normalizer_results)\n",
        "data['previsao_media'] = data.previsao_media.apply(normalizer_results)\n",
        "data['previsao_alta'] = data.previsao_alta.apply(normalizer_results)\n",
        "data"
      ],
      "execution_count": 0,
      "outputs": [
        {
          "output_type": "execute_result",
          "data": {
            "text/html": [
              "<div>\n",
              "<style scoped>\n",
              "    .dataframe tbody tr th:only-of-type {\n",
              "        vertical-align: middle;\n",
              "    }\n",
              "\n",
              "    .dataframe tbody tr th {\n",
              "        vertical-align: top;\n",
              "    }\n",
              "\n",
              "    .dataframe thead th {\n",
              "        text-align: right;\n",
              "    }\n",
              "</style>\n",
              "<table border=\"1\" class=\"dataframe\">\n",
              "  <thead>\n",
              "    <tr style=\"text-align: right;\">\n",
              "      <th></th>\n",
              "      <th>data</th>\n",
              "      <th>previsao_baixa</th>\n",
              "      <th>previsao_media</th>\n",
              "      <th>previsao_alta</th>\n",
              "    </tr>\n",
              "  </thead>\n",
              "  <tbody>\n",
              "    <tr>\n",
              "      <th>53</th>\n",
              "      <td>2020-04-21</td>\n",
              "      <td>97</td>\n",
              "      <td>154</td>\n",
              "      <td>211</td>\n",
              "    </tr>\n",
              "    <tr>\n",
              "      <th>54</th>\n",
              "      <td>2020-04-22</td>\n",
              "      <td>102</td>\n",
              "      <td>156</td>\n",
              "      <td>213</td>\n",
              "    </tr>\n",
              "    <tr>\n",
              "      <th>55</th>\n",
              "      <td>2020-04-23</td>\n",
              "      <td>106</td>\n",
              "      <td>161</td>\n",
              "      <td>216</td>\n",
              "    </tr>\n",
              "    <tr>\n",
              "      <th>56</th>\n",
              "      <td>2020-04-24</td>\n",
              "      <td>104</td>\n",
              "      <td>160</td>\n",
              "      <td>214</td>\n",
              "    </tr>\n",
              "    <tr>\n",
              "      <th>57</th>\n",
              "      <td>2020-04-25</td>\n",
              "      <td>106</td>\n",
              "      <td>161</td>\n",
              "      <td>223</td>\n",
              "    </tr>\n",
              "    <tr>\n",
              "      <th>58</th>\n",
              "      <td>2020-04-26</td>\n",
              "      <td>89</td>\n",
              "      <td>148</td>\n",
              "      <td>203</td>\n",
              "    </tr>\n",
              "    <tr>\n",
              "      <th>59</th>\n",
              "      <td>2020-04-27</td>\n",
              "      <td>97</td>\n",
              "      <td>154</td>\n",
              "      <td>210</td>\n",
              "    </tr>\n",
              "  </tbody>\n",
              "</table>\n",
              "</div>"
            ],
            "text/plain": [
              "         data  previsao_baixa  previsao_media  previsao_alta\n",
              "53 2020-04-21              97             154            211\n",
              "54 2020-04-22             102             156            213\n",
              "55 2020-04-23             106             161            216\n",
              "56 2020-04-24             104             160            214\n",
              "57 2020-04-25             106             161            223\n",
              "58 2020-04-26              89             148            203\n",
              "59 2020-04-27              97             154            210"
            ]
          },
          "metadata": {
            "tags": []
          },
          "execution_count": 114
        }
      ]
    }
  ]
}