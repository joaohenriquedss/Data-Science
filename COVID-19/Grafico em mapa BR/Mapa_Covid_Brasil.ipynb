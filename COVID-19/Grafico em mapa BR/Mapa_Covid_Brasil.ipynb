{
  "nbformat": 4,
  "nbformat_minor": 0,
  "metadata": {
    "kernelspec": {
      "display_name": "Python 3",
      "language": "python",
      "name": "python3"
    },
    "language_info": {
      "codemirror_mode": {
        "name": "ipython",
        "version": 3
      },
      "file_extension": ".py",
      "mimetype": "text/x-python",
      "name": "python",
      "nbconvert_exporter": "python",
      "pygments_lexer": "ipython3",
      "version": "3.7.4"
    },
    "colab": {
      "name": "Mapa_Covid_Brasil.ipynb",
      "provenance": [],
      "collapsed_sections": []
    },
    "accelerator": "GPU"
  },
  "cells": [
    {
      "cell_type": "markdown",
      "metadata": {
        "id": "DFbV3s2p_4Ti",
        "colab_type": "text"
      },
      "source": [
        "## Bibliotecas"
      ]
    },
    {
      "cell_type": "code",
      "metadata": {
        "id": "b4W8HgJ3_FBy",
        "colab_type": "code",
        "colab": {}
      },
      "source": [
        "import pandas as pd\n",
        "import numpy as np\n",
        "import folium\n",
        "from folium import plugins"
      ],
      "execution_count": 0,
      "outputs": []
    },
    {
      "cell_type": "markdown",
      "metadata": {
        "id": "1a0TAMiX-gny",
        "colab_type": "text"
      },
      "source": [
        "## Carregar Arquivos"
      ]
    },
    {
      "cell_type": "code",
      "metadata": {
        "id": "gHZp8_fQ_FCL",
        "colab_type": "code",
        "colab": {}
      },
      "source": [
        "import json\n",
        "br_estados = \"br_states.json\"\n",
        "with open(br_estados, 'r') as json_file:\n",
        "    dados = json.load(json_file)"
      ],
      "execution_count": 0,
      "outputs": []
    },
    {
      "cell_type": "code",
      "metadata": {
        "id": "V9veeSia_FB2",
        "colab_type": "code",
        "colab": {
          "base_uri": "https://localhost:8080/",
          "height": 204
        },
        "outputId": "42196d76-4433-4940-fa47-fdbb0c51051d"
      },
      "source": [
        "data = pd.read_csv('covid19-432cedae8f5a4e2c8ba27cc9e942008e.csv')\n",
        "data.head()"
      ],
      "execution_count": 3,
      "outputs": [
        {
          "output_type": "execute_result",
          "data": {
            "text/html": [
              "<div>\n",
              "<style scoped>\n",
              "    .dataframe tbody tr th:only-of-type {\n",
              "        vertical-align: middle;\n",
              "    }\n",
              "\n",
              "    .dataframe tbody tr th {\n",
              "        vertical-align: top;\n",
              "    }\n",
              "\n",
              "    .dataframe thead th {\n",
              "        text-align: right;\n",
              "    }\n",
              "</style>\n",
              "<table border=\"1\" class=\"dataframe\">\n",
              "  <thead>\n",
              "    <tr style=\"text-align: right;\">\n",
              "      <th></th>\n",
              "      <th>date</th>\n",
              "      <th>state</th>\n",
              "      <th>city</th>\n",
              "      <th>place_type</th>\n",
              "      <th>confirmed</th>\n",
              "      <th>deaths</th>\n",
              "      <th>is_last</th>\n",
              "      <th>estimated_population_2019</th>\n",
              "      <th>city_ibge_code</th>\n",
              "      <th>confirmed_per_100k_inhabitants</th>\n",
              "      <th>death_rate</th>\n",
              "    </tr>\n",
              "  </thead>\n",
              "  <tbody>\n",
              "    <tr>\n",
              "      <th>0</th>\n",
              "      <td>2020-05-26</td>\n",
              "      <td>AL</td>\n",
              "      <td>Anadia</td>\n",
              "      <td>city</td>\n",
              "      <td>22</td>\n",
              "      <td>1</td>\n",
              "      <td>True</td>\n",
              "      <td>17545.0</td>\n",
              "      <td>2700201.0</td>\n",
              "      <td>125.39185</td>\n",
              "      <td>0.0455</td>\n",
              "    </tr>\n",
              "    <tr>\n",
              "      <th>1</th>\n",
              "      <td>2020-05-26</td>\n",
              "      <td>AL</td>\n",
              "      <td>Arapiraca</td>\n",
              "      <td>city</td>\n",
              "      <td>279</td>\n",
              "      <td>9</td>\n",
              "      <td>True</td>\n",
              "      <td>231747.0</td>\n",
              "      <td>2700300.0</td>\n",
              "      <td>120.38991</td>\n",
              "      <td>0.0323</td>\n",
              "    </tr>\n",
              "    <tr>\n",
              "      <th>2</th>\n",
              "      <td>2020-05-26</td>\n",
              "      <td>AL</td>\n",
              "      <td>Atalaia</td>\n",
              "      <td>city</td>\n",
              "      <td>90</td>\n",
              "      <td>3</td>\n",
              "      <td>True</td>\n",
              "      <td>47185.0</td>\n",
              "      <td>2700409.0</td>\n",
              "      <td>190.73858</td>\n",
              "      <td>0.0333</td>\n",
              "    </tr>\n",
              "    <tr>\n",
              "      <th>3</th>\n",
              "      <td>2020-05-26</td>\n",
              "      <td>AL</td>\n",
              "      <td>Barra de Santo Antônio</td>\n",
              "      <td>city</td>\n",
              "      <td>14</td>\n",
              "      <td>1</td>\n",
              "      <td>True</td>\n",
              "      <td>15932.0</td>\n",
              "      <td>2700508.0</td>\n",
              "      <td>87.87346</td>\n",
              "      <td>0.0714</td>\n",
              "    </tr>\n",
              "    <tr>\n",
              "      <th>4</th>\n",
              "      <td>2020-05-26</td>\n",
              "      <td>AL</td>\n",
              "      <td>Barra de São Miguel</td>\n",
              "      <td>city</td>\n",
              "      <td>19</td>\n",
              "      <td>1</td>\n",
              "      <td>True</td>\n",
              "      <td>8322.0</td>\n",
              "      <td>2700607.0</td>\n",
              "      <td>228.31050</td>\n",
              "      <td>0.0526</td>\n",
              "    </tr>\n",
              "  </tbody>\n",
              "</table>\n",
              "</div>"
            ],
            "text/plain": [
              "         date state  ... confirmed_per_100k_inhabitants death_rate\n",
              "0  2020-05-26    AL  ...                      125.39185     0.0455\n",
              "1  2020-05-26    AL  ...                      120.38991     0.0323\n",
              "2  2020-05-26    AL  ...                      190.73858     0.0333\n",
              "3  2020-05-26    AL  ...                       87.87346     0.0714\n",
              "4  2020-05-26    AL  ...                      228.31050     0.0526\n",
              "\n",
              "[5 rows x 11 columns]"
            ]
          },
          "metadata": {
            "tags": []
          },
          "execution_count": 3
        }
      ]
    },
    {
      "cell_type": "markdown",
      "metadata": {
        "id": "92stteM7-o9r",
        "colab_type": "text"
      },
      "source": [
        "## Limpeza dos dados"
      ]
    },
    {
      "cell_type": "code",
      "metadata": {
        "id": "bseUqEP0_FCA",
        "colab_type": "code",
        "colab": {
          "base_uri": "https://localhost:8080/",
          "height": 173
        },
        "outputId": "3a682db6-f5ca-49e6-fa32-40c8a36b60d9"
      },
      "source": [
        "data_cidades_unicas = data.loc[data['is_last'] == True,['state','city','confirmed','deaths']]\n",
        "data_cidades_unicas.head(4)"
      ],
      "execution_count": 4,
      "outputs": [
        {
          "output_type": "execute_result",
          "data": {
            "text/html": [
              "<div>\n",
              "<style scoped>\n",
              "    .dataframe tbody tr th:only-of-type {\n",
              "        vertical-align: middle;\n",
              "    }\n",
              "\n",
              "    .dataframe tbody tr th {\n",
              "        vertical-align: top;\n",
              "    }\n",
              "\n",
              "    .dataframe thead th {\n",
              "        text-align: right;\n",
              "    }\n",
              "</style>\n",
              "<table border=\"1\" class=\"dataframe\">\n",
              "  <thead>\n",
              "    <tr style=\"text-align: right;\">\n",
              "      <th></th>\n",
              "      <th>state</th>\n",
              "      <th>city</th>\n",
              "      <th>confirmed</th>\n",
              "      <th>deaths</th>\n",
              "    </tr>\n",
              "  </thead>\n",
              "  <tbody>\n",
              "    <tr>\n",
              "      <th>0</th>\n",
              "      <td>AL</td>\n",
              "      <td>Anadia</td>\n",
              "      <td>22</td>\n",
              "      <td>1</td>\n",
              "    </tr>\n",
              "    <tr>\n",
              "      <th>1</th>\n",
              "      <td>AL</td>\n",
              "      <td>Arapiraca</td>\n",
              "      <td>279</td>\n",
              "      <td>9</td>\n",
              "    </tr>\n",
              "    <tr>\n",
              "      <th>2</th>\n",
              "      <td>AL</td>\n",
              "      <td>Atalaia</td>\n",
              "      <td>90</td>\n",
              "      <td>3</td>\n",
              "    </tr>\n",
              "    <tr>\n",
              "      <th>3</th>\n",
              "      <td>AL</td>\n",
              "      <td>Barra de Santo Antônio</td>\n",
              "      <td>14</td>\n",
              "      <td>1</td>\n",
              "    </tr>\n",
              "  </tbody>\n",
              "</table>\n",
              "</div>"
            ],
            "text/plain": [
              "  state                    city  confirmed  deaths\n",
              "0    AL                  Anadia         22       1\n",
              "1    AL               Arapiraca        279       9\n",
              "2    AL                 Atalaia         90       3\n",
              "3    AL  Barra de Santo Antônio         14       1"
            ]
          },
          "metadata": {
            "tags": []
          },
          "execution_count": 4
        }
      ]
    },
    {
      "cell_type": "markdown",
      "metadata": {
        "id": "7R_V-YcE-txR",
        "colab_type": "text"
      },
      "source": [
        "## Função de Log\n",
        "Deixar os números inteiros em função de Log para melhorar na visualização dos dados no gráfico"
      ]
    },
    {
      "cell_type": "code",
      "metadata": {
        "id": "_MQiAHSuJPrB",
        "colab_type": "code",
        "colab": {}
      },
      "source": [
        "data_cidades_unicas['confirmed_log'] = np.log(data_cidades_unicas['confirmed'] + 1) \n",
        "data_cidades_unicas['deaths_log'] = np.log(data_cidades_unicas['deaths'] + 1) "
      ],
      "execution_count": 0,
      "outputs": []
    },
    {
      "cell_type": "markdown",
      "metadata": {
        "id": "nb5_Cukq_FEw",
        "colab_type": "text"
      },
      "source": [
        "## Mapa Base"
      ]
    },
    {
      "cell_type": "code",
      "metadata": {
        "id": "PDAO9wdd_FCc",
        "colab_type": "code",
        "colab": {
          "base_uri": "https://localhost:8080/",
          "height": 915
        },
        "outputId": "6790b1be-07c7-4db0-f1e8-0ebab3c0d54b"
      },
      "source": [
        "mapaBase = folium.Map(\n",
        "    location = [-7.2500000,-36.5000000],\n",
        "    zoom_start = 5\n",
        ")\n",
        "mapaBase"
      ],
      "execution_count": 6,
      "outputs": [
        {
          "output_type": "execute_result",
          "data": {
            "text/html": [
              "<div style=\"width:100%;\"><div style=\"position:relative;width:100%;height:0;padding-bottom:60%;\"><span style=\"color:#565656\">Make this Notebook Trusted to load map: File -> Trust Notebook</span><iframe src=\"about:blank\" style=\"position:absolute;width:100%;height:100%;left:0;top:0;border:none !important;\" data-html=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 onload=\"this.contentDocument.open();this.contentDocument.write(atob(this.getAttribute('data-html')));this.contentDocument.close();\" allowfullscreen webkitallowfullscreen mozallowfullscreen></iframe></div></div>"
            ],
            "text/plain": [
              "<folium.folium.Map at 0x7fe42ee53ba8>"
            ]
          },
          "metadata": {
            "tags": []
          },
          "execution_count": 6
        }
      ]
    },
    {
      "cell_type": "markdown",
      "metadata": {
        "id": "qpPZCw-U_Iki",
        "colab_type": "text"
      },
      "source": [
        "## Adicionando contornos vetoriais e cores em cada estado com casos confirmados do COVID-19"
      ]
    },
    {
      "cell_type": "code",
      "metadata": {
        "id": "LwL214Bk_FCr",
        "colab_type": "code",
        "colab": {
          "base_uri": "https://localhost:8080/",
          "height": 71
        },
        "outputId": "9aaea72f-2f75-41f8-95e4-415181092af3"
      },
      "source": [
        "mapaBase.choropleth(\n",
        "    geo_data = dados,\n",
        "    name = 'CASOS CONFIRMADOS',\n",
        "    data = data_cidades_unicas,\n",
        "    columns = ['state','confirmed_log'],\n",
        "    key_on ='id',\n",
        "    fill_color = 'BuGn',\n",
        "    legend_name = 'Escala Logaritmica: Casos de COVID-19 no Brasil',\n",
        "    fill_opacity = 0.9,\n",
        "    line_color =  'black',\n",
        "    line_opacity = 0.8,\n",
        "    show = True,\n",
        "\n",
        ")"
      ],
      "execution_count": 7,
      "outputs": [
        {
          "output_type": "stream",
          "text": [
            "/usr/local/lib/python3.6/dist-packages/folium/folium.py:426: FutureWarning: The choropleth  method has been deprecated. Instead use the new Choropleth class, which has the same arguments. See the example notebook 'GeoJSON_and_choropleth' for how to do this.\n",
            "  FutureWarning\n"
          ],
          "name": "stderr"
        }
      ]
    },
    {
      "cell_type": "markdown",
      "metadata": {
        "id": "UqF05-lR_fqn",
        "colab_type": "text"
      },
      "source": [
        "## Adicionando contornos vetoriais e cores em cada estado com casos obitos do COVID-19"
      ]
    },
    {
      "cell_type": "code",
      "metadata": {
        "id": "NxOmkJoN_FCx",
        "colab_type": "code",
        "colab": {
          "base_uri": "https://localhost:8080/",
          "height": 71
        },
        "outputId": "7fac92d3-b90e-4c67-eb8a-d12d06e5503a"
      },
      "source": [
        "mapaBase.choropleth(\n",
        "    geo_data = dados,\n",
        "    name = 'CASOS DE OBITOS',\n",
        "    data = data_cidades_unicas,\n",
        "    columns = ['state','deaths'],\n",
        "    key_on ='id',\n",
        "    fill_color = 'BuPu',\n",
        "    legend_name = 'Escala Logaritmica: Casos de obitos COVID-19 no Brasil',\n",
        "    fill_opacity = 0.9,\n",
        "    line_color =  'black',\n",
        "    line_opacity = 0.8,\n",
        "    show = False,\n",
        "\n",
        ")\n"
      ],
      "execution_count": 8,
      "outputs": [
        {
          "output_type": "stream",
          "text": [
            "/usr/local/lib/python3.6/dist-packages/folium/folium.py:426: FutureWarning: The choropleth  method has been deprecated. Instead use the new Choropleth class, which has the same arguments. See the example notebook 'GeoJSON_and_choropleth' for how to do this.\n",
            "  FutureWarning\n"
          ],
          "name": "stderr"
        }
      ]
    },
    {
      "cell_type": "markdown",
      "metadata": {
        "id": "34R8S2cH_tT_",
        "colab_type": "text"
      },
      "source": [
        "## Adicionando funcionalidade de escolha "
      ]
    },
    {
      "cell_type": "code",
      "metadata": {
        "id": "7RUIAeZvwGg5",
        "colab_type": "code",
        "colab": {
          "base_uri": "https://localhost:8080/",
          "height": 34
        },
        "outputId": "b47f9099-e089-4e99-dc28-096ed5062564"
      },
      "source": [
        "folium.LayerControl().add_to(mapaBase)"
      ],
      "execution_count": 9,
      "outputs": [
        {
          "output_type": "execute_result",
          "data": {
            "text/plain": [
              "<folium.map.LayerControl at 0x7fe42db9bf60>"
            ]
          },
          "metadata": {
            "tags": []
          },
          "execution_count": 9
        }
      ]
    },
    {
      "cell_type": "markdown",
      "metadata": {
        "id": "1DYjkmUE_vZ7",
        "colab_type": "text"
      },
      "source": [
        "## Salvando arquivo em HTML"
      ]
    },
    {
      "cell_type": "code",
      "metadata": {
        "id": "ODDjU38fwax-",
        "colab_type": "code",
        "colab": {}
      },
      "source": [
        "mapaBase.save('mapaBrCovid.html')"
      ],
      "execution_count": 0,
      "outputs": []
    }
  ]
}