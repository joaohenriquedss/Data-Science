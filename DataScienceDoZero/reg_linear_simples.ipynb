{
  "nbformat": 4,
  "nbformat_minor": 0,
  "metadata": {
    "colab": {
      "name": "reg_linear_simples.ipynb",
      "provenance": [],
      "collapsed_sections": [],
      "toc_visible": true
    },
    "kernelspec": {
      "name": "python3",
      "display_name": "Python 3"
    }
  },
  "cells": [
    {
      "cell_type": "markdown",
      "metadata": {
        "id": "AqcZj3z-VVtW",
        "colab_type": "text"
      },
      "source": [
        "## 1. Rode o mesmo programa nos dados contendo anos de escolaridade (primeira coluna) versus salário (segunda coluna)"
      ]
    },
    {
      "cell_type": "code",
      "metadata": {
        "id": "3qMSuTyDVhfi",
        "colab_type": "code",
        "colab": {}
      },
      "source": [
        "import pandas as pd\n",
        "from numpy import *\n",
        "import matplotlib.pyplot as plt\n"
      ],
      "execution_count": 0,
      "outputs": []
    },
    {
      "cell_type": "code",
      "metadata": {
        "id": "LN9XVdbuUSZQ",
        "colab_type": "code",
        "outputId": "b38572db-7555-4837-9030-b89bdbd618a3",
        "colab": {
          "base_uri": "https://localhost:8080/",
          "height": 68
        }
      },
      "source": [
        "#The optimal values of m and b can be actually calculated with way less effort than doing a linear regression. \n",
        "#this is just to demonstrate gradient descent\n",
        "\n",
        "\n",
        "# y = mx + b\n",
        "def compute_error_for_line_given_points(b, m, points):\n",
        "    totalError = 0\n",
        "    for i in range(0, len(points)):\n",
        "        x = points[i, 0]\n",
        "        y = points[i, 1]\n",
        "        totalError += (y - (m * x + b)) ** 2\n",
        "    return totalError\n",
        "\n",
        "def step_gradient(b_current, m_current, points, learningRate):\n",
        "    b_gradient = 0\n",
        "    m_gradient = 0\n",
        "    N = float(len(points))\n",
        "    for i in range(0, len(points)):\n",
        "        x = points[i, 0]\n",
        "        y = points[i, 1]\n",
        "        b_gradient += -(2) * (y - ((m_current * x) + b_current))\n",
        "        m_gradient += -(2) * x * (y - ((m_current * x) + b_current))\n",
        "    new_b = b_current - (learningRate * b_gradient)\n",
        "    new_m = m_current - (learningRate * m_gradient)\n",
        "    return [new_b, new_m]\n",
        "\n",
        "def gradient_descent_runner(points, starting_b, starting_m, learning_rate, num_iterations):\n",
        "    b = starting_b\n",
        "    m = starting_m\n",
        "    for i in range(num_iterations):\n",
        "        b, m = step_gradient(b, m, array(points), learning_rate)        \n",
        "       \n",
        "    return [b, m]\n",
        "\n",
        "def run():\n",
        "    points = genfromtxt(\"income.csv\", delimiter=\",\")\n",
        "    learning_rate = 0.0001\n",
        "    initial_b = 0 # initial y-intercept guess\n",
        "    initial_m = 0 # initial slope guess\n",
        "    num_iterations = 1000\n",
        "    print (\"Starting gradient descent at b = {0}, m = {1}, error = {2}\".format(initial_b, initial_m, compute_error_for_line_given_points(initial_b, initial_m, points)))\n",
        "    print (\"Running...\")\n",
        "    [b, m] = gradient_descent_runner(points, initial_b, initial_m, learning_rate, num_iterations)\n",
        "    \n",
        "    print (\"After {0} iterations b = {1}, m = {2}, error = {3}\".format(num_iterations, b, m, compute_error_for_line_given_points(b, m, points)))\n",
        "    \n",
        "if __name__ == '__main__':\n",
        "    run()"
      ],
      "execution_count": 0,
      "outputs": [
        {
          "output_type": "stream",
          "text": [
            "Starting gradient descent at b = 0, m = 0, error = 88399.03491138059\n",
            "Running...\n",
            "After 1000 iterations b = -9.647708875888306, m = 3.8256361905811556, error = 2166.0903089213266\n"
          ],
          "name": "stdout"
        }
      ]
    },
    {
      "cell_type": "markdown",
      "metadata": {
        "id": "ruyq8K9lc9TF",
        "colab_type": "text"
      },
      "source": [
        "## 2.Modifique o código original para imprimir o RSS a cada iteração do gradiente descendente. Gere um plot mostrando o RSS por interação."
      ]
    },
    {
      "cell_type": "code",
      "metadata": {
        "id": "vvBhBBCSdqAM",
        "colab_type": "code",
        "outputId": "6801f5b5-0596-43d4-816d-c84c1db94f37",
        "colab": {
          "base_uri": "https://localhost:8080/",
          "height": 286
        }
      },
      "source": [
        "def modified(points, starting_b, starting_m, learning_rate, num_iterations):\n",
        "    b = starting_b\n",
        "    m = starting_m\n",
        "    result = []\n",
        "    for i in range(num_iterations):\n",
        "        b, m = step_gradient(b, m, array(points), learning_rate)\n",
        "        result.append(compute_error_for_line_given_points(b,m,points))\n",
        "    return result\n",
        "  \n",
        "def run_rss():\n",
        "    points = genfromtxt(\"income.csv\", delimiter=\",\")\n",
        "    learning_rate = 0.0001\n",
        "    initial_b = 0 # initial y-intercept guess\n",
        "    initial_m = 0 # initial slope guess\n",
        "    num_iterations = 1000    \n",
        "    result = modified(points, initial_b, initial_m, learning_rate, num_iterations)\n",
        "    return result\n",
        "\n",
        "plt.plot(run_rss(),color=\"red\")\n"
      ],
      "execution_count": 0,
      "outputs": [
        {
          "output_type": "execute_result",
          "data": {
            "text/plain": [
              "[<matplotlib.lines.Line2D at 0x7f2760ad8470>]"
            ]
          },
          "metadata": {
            "tags": []
          },
          "execution_count": 50
        },
        {
          "output_type": "display_data",
          "data": {
            "image/png": "[encoded data removed]",
            "text/plain": [
              "<Figure size 432x288 with 1 Axes>"
            ]
          },
          "metadata": {
            "tags": []
          }
        }
      ]
    },
    {
      "cell_type": "markdown",
      "metadata": {
        "id": "1YYKxSwYnwFN",
        "colab_type": "text"
      },
      "source": [
        "##3 O que acontece com o RSS ao longo das iterações (aumenta ou diminui) se você usar 1000 iterações e um learning_rate (tamanho do passo do gradiente) de 0.001? Por que você acha que isso acontece?"
      ]
    },
    {
      "cell_type": "markdown",
      "metadata": {
        "id": "j09EOdmKhrUr",
        "colab_type": "text"
      },
      "source": [
        "###**Diminui :** \n",
        "* O tamanho do learninge_rate influência diretamente no tamanho dos passos que daremos no vertice para o ponto minimo\n",
        "* Nesse caso a taxa de aprendizado é alta por consequência os passos serão cada vez mais longe do vertice"
      ]
    },
    {
      "cell_type": "markdown",
      "metadata": {
        "id": "7B8TU11i-pzy",
        "colab_type": "text"
      },
      "source": [
        "##4. Teste valores diferentes do número de iterações e learning_rate até que w0 e w1 sejam aproximadamente iguais a -39 e 5 respectivamente. Reporte os valores do número de iterações e learning_rate usados para atingir esses valores."
      ]
    },
    {
      "cell_type": "code",
      "metadata": {
        "id": "RZBQYjxhA2hO",
        "colab_type": "code",
        "outputId": "95d6d16e-16de-4c25-ec93-260ffc851a29",
        "colab": {
          "base_uri": "https://localhost:8080/",
          "height": 68
        }
      },
      "source": [
        "def run():\n",
        "    points = genfromtxt(\"income.csv\", delimiter=\",\")\n",
        "    learning_rate = 0.0001\n",
        "    initial_b = 0 # initial y-intercept guess\n",
        "    initial_m = 0 # initial slope guess\n",
        "    num_iterations = 16555\n",
        "    print (\"Starting gradient descent at b = {0}, m = {1}, error = {2}\".format(initial_b, initial_m, compute_error_for_line_given_points(initial_b, initial_m, points)))\n",
        "    print (\"Running...\")\n",
        "    [b, m] = gradient_descent_runner(points, initial_b, initial_m, learning_rate, num_iterations)\n",
        "    \n",
        "    print (\"After {0} iterations b = {1}, m = {2}, error = {3}\".format(num_iterations, b, m, compute_error_for_line_given_points(b, m, points)))\n",
        "    \n",
        "if __name__ == '__main__':\n",
        "    run()"
      ],
      "execution_count": 0,
      "outputs": [
        {
          "output_type": "stream",
          "text": [
            "Starting gradient descent at b = 0, m = 0, error = 88399.03491138059\n",
            "Running...\n",
            "After 16555 iterations b = -39.094306410758456, m = 5.578531993547336, error = 895.0418212351153\n"
          ],
          "name": "stdout"
        }
      ]
    },
    {
      "cell_type": "markdown",
      "metadata": {
        "id": "e7ZrcO-fEB3Y",
        "colab_type": "text"
      },
      "source": [
        "Com **16555** interação e com **0.0001** de learning_rate. Chegamos a um valor aproximado de **-39** e **5**\n",
        "* w0 = -39.094306410758456\n",
        "* w1 =  5.578531993547336"
      ]
    },
    {
      "cell_type": "markdown",
      "metadata": {
        "id": "EjIhQ3xK-u5m",
        "colab_type": "text"
      },
      "source": [
        "##5.O algoritmo do vídeo usa o número de iterações como critério de parada. Mude o algoritmo para considerar um critério de tolerância que é comparado ao tamanho do gradiente (como no algoritmo dos slides apresentados em sala). "
      ]
    },
    {
      "cell_type": "code",
      "metadata": {
        "id": "GWYPs5FnhEnv",
        "colab_type": "code",
        "outputId": "cd482ce8-3ff9-46e1-bcaf-f2b589d3cdd4",
        "colab": {
          "base_uri": "https://localhost:8080/",
          "height": 85
        }
      },
      "source": [
        "\n",
        "import time\n",
        "\n",
        "def step_gradient(b_current, m_current, points, learningRate):\n",
        "    b_gradient = 0\n",
        "    m_gradient = 0\n",
        "    N = float(len(points))\n",
        "    for i in range(0, len(points)):\n",
        "        x = points[i, 0]\n",
        "        y = points[i, 1]\n",
        "        b_gradient += -(2) * (y - ((m_current * x) + b_current))\n",
        "        m_gradient += -(2) * x * (y - ((m_current * x) + b_current))\n",
        "    new_b = b_current - (learningRate * b_gradient)\n",
        "    new_m = m_current - (learningRate * m_gradient)\n",
        "    return [new_b, new_m,b_gradient,m_gradient]\n",
        "\n",
        "def gradient_descent_runner(points, starting_b, starting_m, learning_rate ):\n",
        "    b = starting_b\n",
        "    m = starting_m\n",
        "    num_iterations = 0\n",
        "    b_gradient = 1\n",
        "    m_gradient = 0\n",
        "    while( abs( b_gradient-m_gradient ) > 0.01):\n",
        "        b, m ,b_gradient,m_gradient= step_gradient(b, m, array(points), learning_rate)   \n",
        "        num_iterations+=1\n",
        "    return [b, m,num_iterations]\n",
        "\n",
        "def run():\n",
        "    points = genfromtxt(\"income.csv\", delimiter=\",\")\n",
        "    learning_rate = 0.0001\n",
        "    initial_b = 0 # initial y-intercept guess\n",
        "    initial_m = 0 # initial slope guess\n",
        "    \n",
        "    print (\"Starting gradient descent at b = {0}, m = {1}, error = {2}\".format(initial_b, initial_m, compute_error_for_line_given_points(initial_b, initial_m, points)))\n",
        "    print (\"Running...\")\n",
        "    inicio = time.clock()\n",
        "    [b, m,num_iterations] = gradient_descent_runner(points, initial_b, initial_m, learning_rate)\n",
        "    final = time.clock()\n",
        "    t = final - inicio\n",
        "    print (\"After {0} iterations b = {1}, m = {2}, error = {3}\".format(num_iterations, b, m, compute_error_for_line_given_points(b, m, points)))\n",
        "    print(\"Time\" , t)\n",
        "if __name__ == '__main__':\n",
        "    run()"
      ],
      "execution_count": 0,
      "outputs": [
        {
          "output_type": "stream",
          "text": [
            "Starting gradient descent at b = 0, m = 0, error = 88399.03491138059\n",
            "Running...\n",
            "After 32912 iterations b = -39.44295011811842, m = 5.59928604129897, error = 894.864501622754\n",
            "Time 1.348910999999994\n"
          ],
          "name": "stdout"
        }
      ]
    },
    {
      "cell_type": "markdown",
      "metadata": {
        "id": "nGFXTHqN-0FP",
        "colab_type": "text"
      },
      "source": [
        "##6.Ache um valor de tolerância que se aproxime dos valores dos parâmetros do item 4 acima. Que valor foi esse?"
      ]
    },
    {
      "cell_type": "markdown",
      "metadata": {
        "id": "at9LuUzmeeg0",
        "colab_type": "text"
      },
      "source": [
        "**A questão 5 consegue w0 e w1 sejam aproximadamente iguais a -39 e 5 respectivamente**\n",
        "\n",
        "O valor de tolerância usado é **0.01**"
      ]
    },
    {
      "cell_type": "markdown",
      "metadata": {
        "id": "8MppMXsg-5El",
        "colab_type": "text"
      },
      "source": [
        "##7. Implemente a forma fechada (equações normais) de calcular os coeficientes de regressão (vide algoritmo nos slides). Compare o tempo de processamento com o gradiente descendente considerando sua solução do item 6."
      ]
    },
    {
      "cell_type": "code",
      "metadata": {
        "id": "_uliAhT2vd6P",
        "colab_type": "code",
        "outputId": "2e9d1aab-bfb6-4113-b15a-7b17d44ef31d",
        "colab": {
          "base_uri": "https://localhost:8080/",
          "height": 68
        }
      },
      "source": [
        "\n",
        "def gradient_descent_runner(points):\n",
        "    meanX = mean(points[:,0])\n",
        "    meanY = mean(points[:,1])\n",
        "    dividend = 0\n",
        "    divider = 0\n",
        "    for i in range(len(points)):\n",
        "      x = points[i, 0]\n",
        "      y = points[i, 1]\n",
        "      dividend += (x - meanX)*(y - meanY)\n",
        "      divider += (x - meanX)**2\n",
        "    new_m = dividend/divider\n",
        "    new_b = meanY - (new_m*meanX)\n",
        "    return [new_b, new_m]\n",
        "\n",
        "\n",
        "def run():\n",
        "    \n",
        "    points = genfromtxt(\"income.csv\", delimiter=\",\")\n",
        "    print(\"Running...\")\n",
        "    inicio = time.clock()\n",
        "    [b, m] = gradient_descent_runner(points)\n",
        "    final = time.clock()\n",
        "    t = final - inicio \n",
        "    print(\"b = {}, m = {}, error = {}\".format(b, m, compute_error_for_line_given_points(b, m, points)))\n",
        "    print(\"Time\",t)\n",
        "\n",
        "\n",
        "if __name__ == '__main__':\n",
        "    run()\n"
      ],
      "execution_count": 0,
      "outputs": [
        {
          "output_type": "stream",
          "text": [
            "Running...\n",
            "b = -39.446256679096194, m = 5.59948287411992, error = 894.8644859701869\n",
            "Time 0.00013299999999816237\n"
          ],
          "name": "stdout"
        }
      ]
    },
    {
      "cell_type": "markdown",
      "metadata": {
        "id": "nBkQybaaw_v9",
        "colab_type": "text"
      },
      "source": [
        "###Como podemos observar o Time da Questão 6 foi *1.348910999999994* e na Questão 7 foi apenas *0.00013299999999816237* Uma diferença consideravelmente alta"
      ]
    }
  ]
}